{
  "nbformat": 4,
  "nbformat_minor": 0,
  "metadata": {
    "kernelspec": {
      "display_name": "Python 3",
      "language": "python",
      "name": "python3"
    },
    "language_info": {
      "codemirror_mode": {
        "name": "ipython",
        "version": 3
      },
      "file_extension": ".py",
      "mimetype": "text/x-python",
      "name": "python",
      "nbconvert_exporter": "python",
      "pygments_lexer": "ipython3",
      "version": "3.6.10"
    },
    "colab": {
      "name": "200721_Text_Summarize_실습.ipynb",
      "provenance": [],
      "include_colab_link": true
    }
  },
  "cells": [
    {
      "cell_type": "markdown",
      "metadata": {
        "id": "view-in-github",
        "colab_type": "text"
      },
      "source": [
        "<a href=\"https://colab.research.google.com/github/HyeonminNam/TIL/blob/master/NLP_C/200721_Text_Summarize_%EC%8B%A4%EC%8A%B5.ipynb\" target=\"_parent\"><img src=\"https://colab.research.google.com/assets/colab-badge.svg\" alt=\"Open In Colab\"/></a>"
      ]
    },
    {
      "cell_type": "markdown",
      "metadata": {
        "id": "VWne3HhSmvZ2",
        "colab_type": "text"
      },
      "source": [
        "## Text Summarize"
      ]
    },
    {
      "cell_type": "code",
      "metadata": {
        "scrolled": false,
        "id": "xW-ELMXmmvZ3",
        "colab_type": "code",
        "colab": {}
      },
      "source": [
        "import pandas as pd\n",
        "import numpy as np\n",
        "import copy"
      ],
      "execution_count": 1,
      "outputs": []
    },
    {
      "cell_type": "code",
      "metadata": {
        "id": "Znz_e4XvmvZ8",
        "colab_type": "code",
        "colab": {}
      },
      "source": [
        "# 초기입력값\n",
        "text = '딸기 바나나 사과 파인애플 수박. 바나나 사과 딸기 포도. 복숭아 수박. 파인애플 사과 딸기 바나나.'\n",
        "damp = 0.85\n",
        "threshold = 0.001"
      ],
      "execution_count": 2,
      "outputs": []
    },
    {
      "cell_type": "markdown",
      "metadata": {
        "id": "jZO-wjXXmvZ-",
        "colab_type": "text"
      },
      "source": [
        "### 문장 분리"
      ]
    },
    {
      "cell_type": "code",
      "metadata": {
        "id": "VTsc6TH0mvZ-",
        "colab_type": "code",
        "colab": {}
      },
      "source": [
        "sent_lst = [x.strip().split() for x in text.split('.')[:-1]]"
      ],
      "execution_count": 3,
      "outputs": []
    },
    {
      "cell_type": "code",
      "metadata": {
        "scrolled": false,
        "id": "IIVEm_-QmvaB",
        "colab_type": "code",
        "colab": {
          "base_uri": "https://localhost:8080/",
          "height": 89
        },
        "outputId": "d5f03e17-bc6e-4078-a65a-313f6b0274b7"
      },
      "source": [
        "sent_lst"
      ],
      "execution_count": 4,
      "outputs": [
        {
          "output_type": "execute_result",
          "data": {
            "text/plain": [
              "[['딸기', '바나나', '사과', '파인애플', '수박'],\n",
              " ['바나나', '사과', '딸기', '포도'],\n",
              " ['복숭아', '수박'],\n",
              " ['파인애플', '사과', '딸기', '바나나']]"
            ]
          },
          "metadata": {
            "tags": []
          },
          "execution_count": 4
        }
      ]
    },
    {
      "cell_type": "markdown",
      "metadata": {
        "id": "EJ5j2ggJmvaE",
        "colab_type": "text"
      },
      "source": [
        "### 각 문장 단어 분리"
      ]
    },
    {
      "cell_type": "code",
      "metadata": {
        "id": "qRaVAshPmvaF",
        "colab_type": "code",
        "colab": {}
      },
      "source": [
        "token_lst = [set(x) for x in sent_lst]"
      ],
      "execution_count": 5,
      "outputs": []
    },
    {
      "cell_type": "code",
      "metadata": {
        "scrolled": false,
        "id": "hiQs8M2tmvaH",
        "colab_type": "code",
        "colab": {
          "base_uri": "https://localhost:8080/",
          "height": 89
        },
        "outputId": "db33b593-3ce3-4970-c84a-de1e33f5f1a1"
      },
      "source": [
        "token_lst"
      ],
      "execution_count": 13,
      "outputs": [
        {
          "output_type": "execute_result",
          "data": {
            "text/plain": [
              "[{'딸기', '바나나', '사과', '수박', '파인애플'},\n",
              " {'딸기', '바나나', '사과', '포도'},\n",
              " {'복숭아', '수박'},\n",
              " {'딸기', '바나나', '사과', '파인애플'}]"
            ]
          },
          "metadata": {
            "tags": []
          },
          "execution_count": 13
        }
      ]
    },
    {
      "cell_type": "markdown",
      "metadata": {
        "id": "tIqNvPgLmvaJ",
        "colab_type": "text"
      },
      "source": [
        "### 문장간 유사도 계산"
      ]
    },
    {
      "cell_type": "code",
      "metadata": {
        "id": "mKaJw9qumvaK",
        "colab_type": "code",
        "colab": {}
      },
      "source": [
        "sim_mat = np.zeros((len(token_lst), len(token_lst)))\n",
        "for idx_1, tokens in enumerate(token_lst):\n",
        "    for idx_2, other in enumerate(token_lst):\n",
        "        if idx_1 != idx_2:\n",
        "            sim = len(tokens.intersection(other))/len(tokens.union(other))\n",
        "            sim_mat[idx_1, idx_2] = sim"
      ],
      "execution_count": 14,
      "outputs": []
    },
    {
      "cell_type": "code",
      "metadata": {
        "scrolled": true,
        "id": "ApCv6Ug5mvaM",
        "colab_type": "code",
        "colab": {
          "base_uri": "https://localhost:8080/",
          "height": 89
        },
        "outputId": "a5f14e72-f23e-4bd1-80d4-3e03d989d2a0"
      },
      "source": [
        "sim_mat"
      ],
      "execution_count": 15,
      "outputs": [
        {
          "output_type": "execute_result",
          "data": {
            "text/plain": [
              "array([[0.        , 0.5       , 0.16666667, 0.8       ],\n",
              "       [0.5       , 0.        , 0.        , 0.6       ],\n",
              "       [0.16666667, 0.        , 0.        , 0.        ],\n",
              "       [0.8       , 0.6       , 0.        , 0.        ]])"
            ]
          },
          "metadata": {
            "tags": []
          },
          "execution_count": 15
        }
      ]
    },
    {
      "cell_type": "markdown",
      "metadata": {
        "id": "KiFB_btrmvaO",
        "colab_type": "text"
      },
      "source": [
        "### 엣지 가중치, 최초 스코어 계산"
      ]
    },
    {
      "cell_type": "code",
      "metadata": {
        "id": "RSmSORGkmvaR",
        "colab_type": "code",
        "colab": {}
      },
      "source": [
        "edge = np.zeros((len(token_lst), len(token_lst)))\n",
        "score_lst = []\n",
        "for idx_1, tokens in enumerate(token_lst):\n",
        "    total = np.sum(sim_mat[idx_1])\n",
        "    score_lst.append(total)\n",
        "    for idx_2, other in enumerate(token_lst):\n",
        "        if idx_1 != idx_2:\n",
        "            edge[idx_1, idx_2] = sim_mat[idx_1, idx_2]/total        "
      ],
      "execution_count": 16,
      "outputs": []
    },
    {
      "cell_type": "code",
      "metadata": {
        "scrolled": true,
        "id": "bKWNGZM8mvaU",
        "colab_type": "code",
        "colab": {
          "base_uri": "https://localhost:8080/",
          "height": 89
        },
        "outputId": "400fc567-ee81-43b5-ffe6-42a15742304f"
      },
      "source": [
        "edge"
      ],
      "execution_count": 17,
      "outputs": [
        {
          "output_type": "execute_result",
          "data": {
            "text/plain": [
              "array([[0.        , 0.34090909, 0.11363636, 0.54545455],\n",
              "       [0.45454545, 0.        , 0.        , 0.54545455],\n",
              "       [1.        , 0.        , 0.        , 0.        ],\n",
              "       [0.57142857, 0.42857143, 0.        , 0.        ]])"
            ]
          },
          "metadata": {
            "tags": []
          },
          "execution_count": 17
        }
      ]
    },
    {
      "cell_type": "code",
      "metadata": {
        "scrolled": true,
        "id": "kQNJCnT6mvaW",
        "colab_type": "code",
        "colab": {
          "base_uri": "https://localhost:8080/",
          "height": 35
        },
        "outputId": "be75b76a-ca51-4f23-ca14-12fab6d3fe32"
      },
      "source": [
        "score_lst"
      ],
      "execution_count": 18,
      "outputs": [
        {
          "output_type": "execute_result",
          "data": {
            "text/plain": [
              "[1.4666666666666668, 1.1, 0.16666666666666666, 1.4]"
            ]
          },
          "metadata": {
            "tags": []
          },
          "execution_count": 18
        }
      ]
    },
    {
      "cell_type": "code",
      "metadata": {
        "id": "k0nPQZYwmvaY",
        "colab_type": "code",
        "colab": {
          "base_uri": "https://localhost:8080/",
          "height": 89
        },
        "outputId": "82fb88b1-ce1a-4571-939d-5a8ac325909e"
      },
      "source": [
        "sim_mat"
      ],
      "execution_count": 19,
      "outputs": [
        {
          "output_type": "execute_result",
          "data": {
            "text/plain": [
              "array([[0.        , 0.5       , 0.16666667, 0.8       ],\n",
              "       [0.5       , 0.        , 0.        , 0.6       ],\n",
              "       [0.16666667, 0.        , 0.        , 0.        ],\n",
              "       [0.8       , 0.6       , 0.        , 0.        ]])"
            ]
          },
          "metadata": {
            "tags": []
          },
          "execution_count": 19
        }
      ]
    },
    {
      "cell_type": "markdown",
      "metadata": {
        "id": "i8Yy7Aj_mvaa",
        "colab_type": "text"
      },
      "source": [
        "### 새로운 스코어, 문장 유사도 계산"
      ]
    },
    {
      "cell_type": "code",
      "metadata": {
        "scrolled": true,
        "id": "TKYSzgmymvaa",
        "colab_type": "code",
        "colab": {
          "base_uri": "https://localhost:8080/",
          "height": 1000
        },
        "outputId": "59d0acf9-c510-432a-9a02-73986aef5bc5"
      },
      "source": [
        "damp_np = np.array([damp for x in range(len(token_lst))])\n",
        "while True:\n",
        "    prev_score = copy.copy(score_lst)\n",
        "    for idx_1, score in enumerate(prev_score):\n",
        "        for idx_2, other in enumerate(prev_score):\n",
        "            if edge[idx_1, idx_2] != 0:\n",
        "                sim = score*edge[idx_1][idx_2]\n",
        "                sim_mat[idx_1, idx_2] = sim\n",
        "    new_score = damp_np.dot(sim_mat) + (1-damp)\n",
        "    score_lst = copy.copy(new_score)\n",
        "    print(sim_mat)\n",
        "    if np.sum(np.fabs(prev_score-new_score)) <= threshold:\n",
        "        print('최종 스코어: ')\n",
        "        print(score_lst)\n",
        "        break"
      ],
      "execution_count": 20,
      "outputs": [
        {
          "output_type": "stream",
          "text": [
            "[[0.         0.5        0.16666667 0.8       ]\n",
            " [0.5        0.         0.         0.6       ]\n",
            " [0.16666667 0.         0.         0.        ]\n",
            " [0.8        0.6        0.         0.        ]]\n",
            "[[0.         0.47613636 0.15871212 0.76181818]\n",
            " [0.49318182 0.         0.         0.59181818]\n",
            " [0.29166667 0.         0.         0.        ]\n",
            " [0.76571429 0.57428571 0.         0.        ]]\n",
            "[[0.         0.50044717 0.16681572 0.80071547]\n",
            " [0.47402671 0.         0.         0.56883205]\n",
            " [0.2849053  0.         0.         0.        ]\n",
            " [0.74319481 0.5573961  0.         0.        ]]\n",
            "[[0.         0.48641175 0.16213725 0.7782588 ]\n",
            " [0.47689399 0.         0.         0.57227279]\n",
            " [0.29179336 0.         0.         0.        ]\n",
            " [0.75092308 0.56319231 0.         0.        ]]\n",
            "[[0.         0.49147802 0.16382601 0.78636484]\n",
            " [0.47371066 0.         0.         0.56845279]\n",
            " [0.28781666 0.         0.         0.        ]\n",
            " [0.74168677 0.55626508 0.         0.        ]]\n",
            "[[0.         0.48672681 0.16224227 0.7787629 ]\n",
            " [0.47299165 0.         0.         0.56758998]\n",
            " [0.28925211 0.         0.         0.        ]\n",
            " [0.74376856 0.55782642 0.         0.        ]]\n",
            "[[0.         0.48753766 0.16251255 0.78006026]\n",
            " [0.4717592  0.         0.         0.56611104]\n",
            " [0.28790593 0.         0.         0.        ]\n",
            " [0.73965711 0.55474284 0.         0.        ]]\n",
            "[[0.         0.48559906 0.16186635 0.7769585 ]\n",
            " [0.4708811  0.         0.         0.56505732]\n",
            " [0.28813567 0.         0.         0.        ]\n",
            " [0.73956892 0.55467669 0.         0.        ]]\n",
            "[[0.         0.48538563 0.16179521 0.776617  ]\n",
            " [0.47010654 0.         0.         0.56412785]\n",
            " [0.2875864  0.         0.         0.        ]\n",
            " [0.73755054 0.55316291 0.         0.        ]]\n",
            "[[0.         0.48441714 0.16147238 0.77506743]\n",
            " [0.46943921 0.         0.         0.56332705]\n",
            " [0.28752593 0.         0.         0.        ]\n",
            " [0.73693321 0.55269991 0.         0.        ]]\n",
            "[[0.         0.48402736 0.16134245 0.77444378]\n",
            " [0.46888613 0.         0.         0.56266336]\n",
            " [0.28725152 0.         0.         0.        ]\n",
            " [0.7357916  0.5518437  0.         0.        ]]\n",
            "[[0.         0.48345677 0.16115226 0.77353084]\n",
            " [0.46840473 0.         0.         0.56208568]\n",
            " [0.28714109 0.         0.         0.        ]\n",
            " [0.73516633 0.55137474 0.         0.        ]]\n",
            "[[0.         0.48310409 0.1610347  0.77296654]\n",
            " [0.46800309 0.         0.         0.5616037 ]\n",
            " [0.28697942 0.         0.         0.        ]\n",
            " [0.73444231 0.55083173 0.         0.        ]]\n",
            "[[0.         0.48273105 0.16091035 0.77236969]\n",
            " [0.46765702 0.         0.         0.56118842]\n",
            " [0.28687949 0.         0.         0.        ]\n",
            " [0.73393412 0.55045059 0.         0.        ]]\n",
            "[[0.         0.48245456 0.16081819 0.77192729]\n",
            " [0.46736563 0.         0.         0.56083876]\n",
            " [0.2867738  0.         0.         0.        ]\n",
            " [0.73344251 0.55008188 0.         0.        ]]\n",
            "[[0.         0.48219704 0.16073235 0.77151526]\n",
            " [0.46711635 0.         0.         0.56053962]\n",
            " [0.28669546 0.         0.         0.        ]\n",
            " [0.7330578  0.54979335 0.         0.        ]]\n",
            "[[0.         0.48199062 0.16066354 0.771185  ]\n",
            " [0.46690538 0.         0.         0.56028645]\n",
            " [0.28662249 0.         0.         0.        ]\n",
            " [0.73271237 0.54953428 0.         0.        ]]\n",
            "[[0.         0.48180825 0.16060275 0.7708932 ]\n",
            " [0.46672553 0.         0.         0.56007064]\n",
            " [0.28656401 0.         0.         0.        ]\n",
            " [0.73242899 0.54932174 0.         0.        ]]\n",
            "[[0.         0.48165707 0.16055236 0.77065132]\n",
            " [0.46657295 0.         0.         0.55988754]\n",
            " [0.28651234 0.         0.         0.        ]\n",
            " [0.73218244 0.54913683 0.         0.        ]]\n",
            "[[0.         0.48152644 0.16050881 0.77044231]\n",
            " [0.4664431  0.         0.         0.55973172]\n",
            " [0.2864695  0.         0.         0.        ]\n",
            " [0.73197602 0.54898201 0.         0.        ]]\n",
            "최종 스코어: \n",
            "[1.41215533 1.02593219 0.28643249 1.28064793]\n"
          ],
          "name": "stdout"
        }
      ]
    },
    {
      "cell_type": "code",
      "metadata": {
        "id": "J8c8ytMEmvac",
        "colab_type": "code",
        "colab": {}
      },
      "source": [
        "score_dic = {'스코어': score_lst}\n",
        "idx = ['문장{}'.format(x+1) for x in range(len(score_lst))]"
      ],
      "execution_count": 21,
      "outputs": []
    },
    {
      "cell_type": "code",
      "metadata": {
        "id": "3z0B7qjhmvae",
        "colab_type": "code",
        "colab": {
          "base_uri": "https://localhost:8080/",
          "height": 35
        },
        "outputId": "cde2937d-bca6-49d5-d4cb-314d5e0bf4e8"
      },
      "source": [
        "score_dic"
      ],
      "execution_count": 22,
      "outputs": [
        {
          "output_type": "execute_result",
          "data": {
            "text/plain": [
              "{'스코어': array([1.41215533, 1.02593219, 0.28643249, 1.28064793])}"
            ]
          },
          "metadata": {
            "tags": []
          },
          "execution_count": 22
        }
      ]
    },
    {
      "cell_type": "code",
      "metadata": {
        "id": "_vJW8t9zmvag",
        "colab_type": "code",
        "colab": {}
      },
      "source": [
        "df = pd.DataFrame(score_dic, index= idx)"
      ],
      "execution_count": 23,
      "outputs": []
    },
    {
      "cell_type": "code",
      "metadata": {
        "id": "-HryQeb_mvai",
        "colab_type": "code",
        "colab": {
          "base_uri": "https://localhost:8080/",
          "height": 173
        },
        "outputId": "2d24d9f9-0261-4c38-aea8-f430bce51d09"
      },
      "source": [
        "df"
      ],
      "execution_count": 24,
      "outputs": [
        {
          "output_type": "execute_result",
          "data": {
            "text/html": [
              "<div>\n",
              "<style scoped>\n",
              "    .dataframe tbody tr th:only-of-type {\n",
              "        vertical-align: middle;\n",
              "    }\n",
              "\n",
              "    .dataframe tbody tr th {\n",
              "        vertical-align: top;\n",
              "    }\n",
              "\n",
              "    .dataframe thead th {\n",
              "        text-align: right;\n",
              "    }\n",
              "</style>\n",
              "<table border=\"1\" class=\"dataframe\">\n",
              "  <thead>\n",
              "    <tr style=\"text-align: right;\">\n",
              "      <th></th>\n",
              "      <th>스코어</th>\n",
              "    </tr>\n",
              "  </thead>\n",
              "  <tbody>\n",
              "    <tr>\n",
              "      <th>문장1</th>\n",
              "      <td>1.412155</td>\n",
              "    </tr>\n",
              "    <tr>\n",
              "      <th>문장2</th>\n",
              "      <td>1.025932</td>\n",
              "    </tr>\n",
              "    <tr>\n",
              "      <th>문장3</th>\n",
              "      <td>0.286432</td>\n",
              "    </tr>\n",
              "    <tr>\n",
              "      <th>문장4</th>\n",
              "      <td>1.280648</td>\n",
              "    </tr>\n",
              "  </tbody>\n",
              "</table>\n",
              "</div>"
            ],
            "text/plain": [
              "          스코어\n",
              "문장1  1.412155\n",
              "문장2  1.025932\n",
              "문장3  0.286432\n",
              "문장4  1.280648"
            ]
          },
          "metadata": {
            "tags": []
          },
          "execution_count": 24
        }
      ]
    },
    {
      "cell_type": "markdown",
      "metadata": {
        "id": "OblGEGRlmval",
        "colab_type": "text"
      },
      "source": [
        "### 클래스 만들기"
      ]
    },
    {
      "cell_type": "code",
      "metadata": {
        "id": "py_CD49gmval",
        "colab_type": "code",
        "colab": {}
      },
      "source": [
        "import pandas as pd\n",
        "import numpy as np\n",
        "import copy\n",
        "\n",
        "# 입력값(텍스트, 윈도우 사이즈)\n",
        "class TextSummarize:\n",
        "    \n",
        "    def __init__(self, text):\n",
        "        self.text = text\n",
        "        self.sent_lst = [x.strip().split() for x in self.text.split('.')[:-1]]\n",
        "        self.token_lst = [set(x) for x in self.sent_lst]\n",
        "        self.score_lst = []\n",
        "\n",
        "    def edge(self):\n",
        "        # 문장 유사도 계산\n",
        "        sim_mat = np.zeros((len(token_lst), len(token_lst)))\n",
        "        for idx_1, tokens in enumerate(token_lst):\n",
        "            for idx_2, other in enumerate(token_lst):\n",
        "                if idx_1 != idx_2:\n",
        "                    sim = len(tokens.intersection(other))/len(tokens.union(other))\n",
        "                    sim_mat[idx_1, idx_2] = sim\n",
        "                    \n",
        "        # 엣지, 최초 스코어 계산\n",
        "        edge = np.zeros((len(token_lst), len(token_lst)))\n",
        "        score_lst = []\n",
        "        for idx_1, tokens in enumerate(token_lst):\n",
        "            total = np.sum(sim_mat[idx_1])\n",
        "            score_lst.append(total)\n",
        "            for idx_2, other in enumerate(token_lst):\n",
        "                if idx_1 != idx_2:\n",
        "                    edge[idx_1, idx_2] = sim_mat[idx_1, idx_2]/total\n",
        "        self.score_lst = score_lst\n",
        "        return edge\n",
        "                    \n",
        "\n",
        "    def score(self, threshold, damp):\n",
        "        # 행렬 계산 위해서 damp 값으로 (4, 0) 행렬 만들기\n",
        "        damp_np = np.array([damp for x in range(len(token_lst))])\n",
        "        \n",
        "        # threshold까지 반복해서 스코어 갱신\n",
        "        while True:\n",
        "            prev_score = copy.copy(self.score_lst)\n",
        "            for idx_1, score in enumerate(prev_score):\n",
        "                for idx_2, other in enumerate(prev_score):\n",
        "                    if edge[idx_1, idx_2] != 0:\n",
        "                        sim = score*edge[idx_1][idx_2]\n",
        "                        sim_mat[idx_1, idx_2] = sim\n",
        "            new_score = damp_np.dot(sim_mat) + (1-damp)\n",
        "            self.score_lst = copy.copy(new_score)\n",
        "            \n",
        "            # threshold조건 도달하면 데이터프레임 리턴\n",
        "            if np.sum(np.fabs(prev_score-new_score)) <= threshold:\n",
        "                print('최종 스코어: ')\n",
        "                print(self.score_lst)\n",
        "                df = pd.DataFrame(score_dic, index= idx)\n",
        "                return df"
      ],
      "execution_count": 36,
      "outputs": []
    },
    {
      "cell_type": "markdown",
      "metadata": {
        "id": "nXFwQUOnmvan",
        "colab_type": "text"
      },
      "source": [
        "## TextSummarize 클래스 테스트"
      ]
    },
    {
      "cell_type": "code",
      "metadata": {
        "id": "rxvWaDIImvan",
        "colab_type": "code",
        "colab": {}
      },
      "source": [
        "text = '딸기 바나나 사과 파인애플 수박. 바나나 사과 딸기 포도. 복숭아 수박. 파인애플 사과 딸기 바나나.'\n",
        "damp = 0.85\n",
        "threshold = 0.001"
      ],
      "execution_count": 37,
      "outputs": []
    },
    {
      "cell_type": "code",
      "metadata": {
        "id": "lawk5B-Kmvap",
        "colab_type": "code",
        "colab": {}
      },
      "source": [
        "test = TextSummarize(text)"
      ],
      "execution_count": 38,
      "outputs": []
    },
    {
      "cell_type": "code",
      "metadata": {
        "id": "1kjmQEhtmvar",
        "colab_type": "code",
        "colab": {
          "base_uri": "https://localhost:8080/",
          "height": 89
        },
        "outputId": "47579f17-3642-48c5-fddf-987718c180c0"
      },
      "source": [
        "test.edge()"
      ],
      "execution_count": 39,
      "outputs": [
        {
          "output_type": "execute_result",
          "data": {
            "text/plain": [
              "array([[0.        , 0.34090909, 0.11363636, 0.54545455],\n",
              "       [0.45454545, 0.        , 0.        , 0.54545455],\n",
              "       [1.        , 0.        , 0.        , 0.        ],\n",
              "       [0.57142857, 0.42857143, 0.        , 0.        ]])"
            ]
          },
          "metadata": {
            "tags": []
          },
          "execution_count": 39
        }
      ]
    },
    {
      "cell_type": "code",
      "metadata": {
        "id": "9regjYhbmvat",
        "colab_type": "code",
        "colab": {
          "base_uri": "https://localhost:8080/",
          "height": 209
        },
        "outputId": "09701a0e-9cfd-4108-ac0d-e7dfcf096843"
      },
      "source": [
        "test.score(0.001, 0.85)"
      ],
      "execution_count": 40,
      "outputs": [
        {
          "output_type": "stream",
          "text": [
            "최종 스코어: \n",
            "[1.41215533 1.02593219 0.28643249 1.28064793]\n"
          ],
          "name": "stdout"
        },
        {
          "output_type": "execute_result",
          "data": {
            "text/html": [
              "<div>\n",
              "<style scoped>\n",
              "    .dataframe tbody tr th:only-of-type {\n",
              "        vertical-align: middle;\n",
              "    }\n",
              "\n",
              "    .dataframe tbody tr th {\n",
              "        vertical-align: top;\n",
              "    }\n",
              "\n",
              "    .dataframe thead th {\n",
              "        text-align: right;\n",
              "    }\n",
              "</style>\n",
              "<table border=\"1\" class=\"dataframe\">\n",
              "  <thead>\n",
              "    <tr style=\"text-align: right;\">\n",
              "      <th></th>\n",
              "      <th>스코어</th>\n",
              "    </tr>\n",
              "  </thead>\n",
              "  <tbody>\n",
              "    <tr>\n",
              "      <th>문장1</th>\n",
              "      <td>1.412155</td>\n",
              "    </tr>\n",
              "    <tr>\n",
              "      <th>문장2</th>\n",
              "      <td>1.025932</td>\n",
              "    </tr>\n",
              "    <tr>\n",
              "      <th>문장3</th>\n",
              "      <td>0.286432</td>\n",
              "    </tr>\n",
              "    <tr>\n",
              "      <th>문장4</th>\n",
              "      <td>1.280648</td>\n",
              "    </tr>\n",
              "  </tbody>\n",
              "</table>\n",
              "</div>"
            ],
            "text/plain": [
              "          스코어\n",
              "문장1  1.412155\n",
              "문장2  1.025932\n",
              "문장3  0.286432\n",
              "문장4  1.280648"
            ]
          },
          "metadata": {
            "tags": []
          },
          "execution_count": 40
        }
      ]
    },
    {
      "cell_type": "code",
      "metadata": {
        "id": "_7t1DuR_njjc",
        "colab_type": "code",
        "colab": {}
      },
      "source": [
        ""
      ],
      "execution_count": null,
      "outputs": []
    }
  ]
}