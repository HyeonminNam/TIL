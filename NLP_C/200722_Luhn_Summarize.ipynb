{
  "nbformat": 4,
  "nbformat_minor": 0,
  "metadata": {
    "colab": {
      "name": "200722_Luhn_Summarize.ipynb",
      "provenance": [],
      "private_outputs": true,
      "collapsed_sections": [],
      "authorship_tag": "ABX9TyMX9gRqsx3jjJL32dniSjzk",
      "include_colab_link": true
    },
    "kernelspec": {
      "name": "python3",
      "display_name": "Python 3"
    }
  },
  "cells": [
    {
      "cell_type": "markdown",
      "metadata": {
        "id": "view-in-github",
        "colab_type": "text"
      },
      "source": [
        "<a href=\"https://colab.research.google.com/github/HyeonminNam/TIL/blob/master/NLP_C/200722_Luhn_Summarize.ipynb\" target=\"_parent\"><img src=\"https://colab.research.google.com/assets/colab-badge.svg\" alt=\"Open In Colab\"/></a>"
      ]
    },
    {
      "cell_type": "markdown",
      "metadata": {
        "id": "XbjDAT-L9qjH",
        "colab_type": "text"
      },
      "source": [
        "## 토큰화"
      ]
    },
    {
      "cell_type": "code",
      "metadata": {
        "id": "-mYYr6je9rii",
        "colab_type": "code",
        "colab": {}
      },
      "source": [
        "import konlpy\n",
        "import re"
      ],
      "execution_count": null,
      "outputs": []
    },
    {
      "cell_type": "code",
      "metadata": {
        "id": "ua4GDRMv9PGq",
        "colab_type": "code",
        "colab": {}
      },
      "source": [
        "text = '''코로나/19/ 대응 의료 인공지능 컨소시엄 출범 산학연병 인공지능 전문가 20여 명으로 구성, 기술‧응용 공동 연구\n",
        "지난 8일, 창립준비 모임…미영상의학회 COVID-19 컨소시엄과도 협력\n",
        "\n",
        "코로나19 바이러스의 세계적 감염 유행에 효과적으로 대응하기 위해 관련 전문가들이 모인 ‘코로나19 감염 대응을 위한 의료 인공지능 컨소시엄’이 9월 1일에 출범한다. \n",
        "\n",
        "연세대 의대, 한국전자통신원, 네이버 등 산학연병 20여 명이 참여하는 컨소시엄에서는 인공지능 기술과 응용 분야를 공동으로 연구하고 개발, 검증할 예정이다. 또 이 인공지능 기술을 적용하기 위해 필요한 데이터를 수집, 공유, 활용한다. 나아가 다양한 산학연병 전문가들이 국내외적으로 협력하고 공동으로 대응해 나갈 예정이다.\n",
        " \n",
        "컨소시엄에는 15개 기관의 20여 명 전문가들이 참여했다. 연세대 의과대학에서는 박유랑(의생명시스템정보학), 김휘영(방사선의과학연구소), 심규원(신경외과), 염준섭(감염내과), 최병욱(영상의학과, 사진), 허진(영상의학과) 교수가 참여했다.\n",
        "\n",
        "대학군에서는 권인호(동아대), 김남국(울산대), 김윤현(전남대), 김진영(계명대), 박상준(서울대), 신수용(성균관대), 정명진(성균관대), 진광남(서울대), 홍헬렌(서울여대) 교수가 , 산업군에서는 김기환(루닛), 이동훈(카카오), 정규환(뷰노), 최우식(딥노이드), 최정필(코어라인소프트), 하정우(네이버)가 기업을 대표해 동참했다.\n",
        "\n",
        "이 밖에도 전종홍(한국전자통신연구원), 김경훈(정보통신정책연구원), 예종철(한국과학기술원) 교수도 포함됐다.\n",
        " \n",
        "인공지능 컨소시엄은 지난 7월 8일에 창립 준비 위원 모임을 했고, 연세대 의대 영상의학과 최병욱 교수(사진)가 준비위원장으로 선출됐다.\n",
        "\n",
        "컨소시엄은 북미영상의학회에서 시작한 COVID-19 RICORD 컨소시엄, 유럽연합에서 시작한 COVID-19 이미징 AI 이니셔티브 등과 함께 국제 협력 활동을 펼칠 계획이며, 코로나19 대응을 위한 AI 핵심표준 개발도 목표로 하고 있다. 아울러 대한의료인공지능학회, 대한영상의학회 등 국내 관련 학회와도 적극 협력할 계획이다.\n",
        " \n",
        "한편 오는 7월 24일(금)에는 온라인 워크숍을 개최해 코로나 19 감염대응 의료 인공지능 관련 동향발표 및 연구개발 사례 소개가 있을 예정이다.'''"
      ],
      "execution_count": null,
      "outputs": []
    },
    {
      "cell_type": "code",
      "metadata": {
        "id": "YxRxumGp_E3D",
        "colab_type": "code",
        "colab": {}
      },
      "source": [
        "from konlpy.tag import Kkma\n",
        "kkma= Kkma()\n",
        "kkma_tokens = kkma.morphs(text)"
      ],
      "execution_count": null,
      "outputs": []
    },
    {
      "cell_type": "code",
      "metadata": {
        "id": "O-FlZ-Y__NCK",
        "colab_type": "code",
        "colab": {}
      },
      "source": [
        "kkma_tokens\n",
        "# 고유명사 처리 결과가 좋지 않기 때문에 다른 형태소 분석기 탐색"
      ],
      "execution_count": null,
      "outputs": []
    },
    {
      "cell_type": "code",
      "metadata": {
        "id": "vx--VIKy-hzo",
        "colab_type": "code",
        "colab": {}
      },
      "source": [
        "from konlpy.tag import Okt\n",
        "okt= Okt()\n",
        "okt_tokens = okt.morphs(text)"
      ],
      "execution_count": null,
      "outputs": []
    },
    {
      "cell_type": "code",
      "metadata": {
        "id": "lzOT4Ky0-jS7",
        "colab_type": "code",
        "colab": {}
      },
      "source": [
        "okt_tokens\n",
        "# 고유명사 처리 결과 나쁘지 않기 때문에 okt 활용하여 토큰화"
      ],
      "execution_count": null,
      "outputs": []
    },
    {
      "cell_type": "markdown",
      "metadata": {
        "id": "d1gLMvtD_lav",
        "colab_type": "text"
      },
      "source": [
        "## 중요단어 결정"
      ]
    },
    {
      "cell_type": "code",
      "metadata": {
        "id": "uPye1iu_AGeG",
        "colab_type": "code",
        "colab": {}
      },
      "source": [
        "# 중복 제거하여 단어 유형 판단\n",
        "word_type = set(okt_tokens)\n",
        "freq_dic = {}\n",
        "\n",
        "# 각 단어 빈도 딕셔너리에 저장\n",
        "for x in word_type:\n",
        "    if re.search('[0-9가-힣a-zA-z]', x):\n",
        "        freq_dic[x] = okt_tokens.count(x)"
      ],
      "execution_count": null,
      "outputs": []
    },
    {
      "cell_type": "code",
      "metadata": {
        "id": "ZtU2xvYkA-lN",
        "colab_type": "code",
        "colab": {}
      },
      "source": [
        "total = sum(freq_dic.values())\n",
        "keyword_lst = []\n",
        "for word, freq in freq_dic.items():\n",
        "    if 0.005 < freq/total < 0.5:    # 0.001로 했을 때 제외되는 단어 거의 없어서 비율 조정\n",
        "        keyword_lst.append(word)"
      ],
      "execution_count": null,
      "outputs": []
    },
    {
      "cell_type": "code",
      "metadata": {
        "id": "s0mKTNPBDbNj",
        "colab_type": "code",
        "colab": {}
      },
      "source": [
        "print(len(word_type))\n",
        "print(len(keyword_lst))\n",
        "# 157개 단어 중에서 41개 단어를 keyword로 추출"
      ],
      "execution_count": null,
      "outputs": []
    },
    {
      "cell_type": "markdown",
      "metadata": {
        "id": "E129Dx5ADO-s",
        "colab_type": "text"
      },
      "source": [
        "## 문장 중요도 계산"
      ]
    },
    {
      "cell_type": "code",
      "metadata": {
        "id": "oqgplM1YBqVy",
        "colab_type": "code",
        "colab": {}
      },
      "source": [
        "# 개별 문장 리스트\n",
        "sent_lst = text.split('.')\n",
        "sent_lst = [x.strip() for x in sent_lst]"
      ],
      "execution_count": null,
      "outputs": []
    },
    {
      "cell_type": "code",
      "metadata": {
        "id": "OBPLqH6kM7pS",
        "colab_type": "code",
        "colab": {}
      },
      "source": [
        "sent_lst"
      ],
      "execution_count": null,
      "outputs": []
    },
    {
      "cell_type": "code",
      "metadata": {
        "id": "1BwI8ZV3Fad2",
        "colab_type": "code",
        "colab": {}
      },
      "source": [
        "# 문장 중요도 계산\n",
        "sent_sig_dic = {}\n",
        "for x in sent_lst:\n",
        "    if x:\n",
        "        sent_tokens = okt.morphs(x)\n",
        "        s_kw_dic = {}\n",
        "        for idx, token in enumerate(sent_tokens):\n",
        "            if token in keyword_lst:\n",
        "                s_kw_dic[token] = idx\n",
        "        start = min(s_kw_dic.values())    # 윈도우 시작\n",
        "        end = max(s_kw_dic.values())  # 윈도우 끝\n",
        "        word_num = end-start+1\n",
        "        kw_num = len(s_kw_dic)\n",
        "        sent_sig = kw_num**2/word_num\n",
        "        sent_sig_dic[x] = sent_sig"
      ],
      "execution_count": null,
      "outputs": []
    },
    {
      "cell_type": "code",
      "metadata": {
        "id": "mj7HCtmrHhXX",
        "colab_type": "code",
        "colab": {}
      },
      "source": [
        "sent_sig_dic"
      ],
      "execution_count": null,
      "outputs": []
    },
    {
      "cell_type": "code",
      "metadata": {
        "id": "htEkaE5SHjDw",
        "colab_type": "code",
        "colab": {}
      },
      "source": [
        "sent_sig_lst = list(sent_sig_dic.items())\n",
        "sent_sig_lst.sort(key=lambda x: x[1], reverse=True)"
      ],
      "execution_count": null,
      "outputs": []
    },
    {
      "cell_type": "code",
      "metadata": {
        "id": "wI-xhnXAJmBZ",
        "colab_type": "code",
        "colab": {}
      },
      "source": [
        "sent_sig_lst"
      ],
      "execution_count": null,
      "outputs": []
    },
    {
      "cell_type": "code",
      "metadata": {
        "id": "5emUcF_zJopP",
        "colab_type": "code",
        "colab": {}
      },
      "source": [
        "# 중요도 상위 3문장 출력\n",
        "for idx, x in enumerate(sent_sig_lst[:3]):\n",
        "    print(idx+1, x[0])"
      ],
      "execution_count": null,
      "outputs": []
    },
    {
      "cell_type": "markdown",
      "metadata": {
        "id": "ma9QgNWXwpYe",
        "colab_type": "text"
      },
      "source": [
        "## Luhn_Summarize 클래스"
      ]
    },
    {
      "cell_type": "code",
      "metadata": {
        "id": "Yx4thSy9wx64",
        "colab_type": "code",
        "colab": {}
      },
      "source": [
        "import re\n",
        "from konlpy.tag import Kkma\n",
        "from konlpy.tag import Okt\n",
        "\n",
        "class LuhnSummarize:\n",
        "    def __init__(self, text):\n",
        "        self.text = text\n",
        "        self.minimum = 0.001\n",
        "        self.maximum = 0.5\n",
        "        self.keyword_lst = []\n",
        "\n",
        "    # 키워드 추출\n",
        "    def keyword(self, minimum, maximum):\n",
        "        okt = Okt()\n",
        "        okt_tokens = okt.morphs(self.text)\n",
        "        # 중복 제거하여 개별 단어 세트 만들기\n",
        "        word_type = set(okt_tokens)\n",
        "        freq_dic = {}\n",
        "        # 각 단어 빈도 딕셔너리에 저장\n",
        "        for x in word_type:\n",
        "            if re.search('[0-9가-힣a-zA-z]', x):\n",
        "                freq_dic[x] = okt_tokens.count(x)\n",
        "\n",
        "        # 개별 단어 빈도 / 총 빈도 기준으로 키워드 추출\n",
        "        total = sum(freq_dic.values())\n",
        "        keyword_lst = []\n",
        "        self.minimum = minimum\n",
        "        self.maximum = maximum\n",
        "        for word, freq in freq_dic.items():\n",
        "            if self.minimum < freq/total < self.maximum:    # 0.001로 했을 때 제외되는 단어 거의 없어서 비율 조정\n",
        "                keyword_lst.append(word)\n",
        "        self.keyword_lst = keyword_lst\n",
        "        return keyword_lst\n",
        "\n",
        "\n",
        "    # 문장 중요도 계산\n",
        "    def keysentence(self):\n",
        "        okt = Okt()\n",
        "        # 개별 문장 리스트\n",
        "        sent_lst = self.text.split('.')\n",
        "        sent_lst = [x.strip() for x in sent_lst]\n",
        "        # 문장 중요도 계산\n",
        "        sent_sig_dic = {}\n",
        "        for x in sent_lst:\n",
        "            # 문장이 비어있으면 제외하고 실행\n",
        "            if x:\n",
        "                sent_tokens = okt.morphs(x)\n",
        "                s_kw_dic = {}\n",
        "                for idx, token in enumerate(sent_tokens):\n",
        "                    if token in keyword_lst:\n",
        "                        s_kw_dic[token] = idx\n",
        "                start = min(s_kw_dic.values())    # 윈도우 시작\n",
        "                end = max(s_kw_dic.values())  # 윈도우 끝\n",
        "                word_num = end-start+1\n",
        "                kw_num = len(s_kw_dic)\n",
        "                sent_sig = kw_num**2/word_num\n",
        "                sent_sig_dic[x] = sent_sig\n",
        "        for idx, x in enumerate(sent_sig_lst[:3]):\n",
        "            print(idx+1, x[0])"
      ],
      "execution_count": null,
      "outputs": []
    },
    {
      "cell_type": "code",
      "metadata": {
        "id": "hcJmUtNy1M9g",
        "colab_type": "code",
        "colab": {}
      },
      "source": [
        "text = '''코로나/19/ 대응 의료 인공지능 컨소시엄 출범 산학연병 인공지능 전문가 20여 명으로 구성, 기술‧응용 공동 연구\n",
        "지난 8일, 창립준비 모임…미영상의학회 COVID-19 컨소시엄과도 협력\n",
        "\n",
        "코로나19 바이러스의 세계적 감염 유행에 효과적으로 대응하기 위해 관련 전문가들이 모인 ‘코로나19 감염 대응을 위한 의료 인공지능 컨소시엄’이 9월 1일에 출범한다. \n",
        "\n",
        "연세대 의대, 한국전자통신원, 네이버 등 산학연병 20여 명이 참여하는 컨소시엄에서는 인공지능 기술과 응용 분야를 공동으로 연구하고 개발, 검증할 예정이다. 또 이 인공지능 기술을 적용하기 위해 필요한 데이터를 수집, 공유, 활용한다. 나아가 다양한 산학연병 전문가들이 국내외적으로 협력하고 공동으로 대응해 나갈 예정이다.\n",
        " \n",
        "컨소시엄에는 15개 기관의 20여 명 전문가들이 참여했다. 연세대 의과대학에서는 박유랑(의생명시스템정보학), 김휘영(방사선의과학연구소), 심규원(신경외과), 염준섭(감염내과), 최병욱(영상의학과, 사진), 허진(영상의학과) 교수가 참여했다.\n",
        "\n",
        "대학군에서는 권인호(동아대), 김남국(울산대), 김윤현(전남대), 김진영(계명대), 박상준(서울대), 신수용(성균관대), 정명진(성균관대), 진광남(서울대), 홍헬렌(서울여대) 교수가 , 산업군에서는 김기환(루닛), 이동훈(카카오), 정규환(뷰노), 최우식(딥노이드), 최정필(코어라인소프트), 하정우(네이버)가 기업을 대표해 동참했다.\n",
        "\n",
        "이 밖에도 전종홍(한국전자통신연구원), 김경훈(정보통신정책연구원), 예종철(한국과학기술원) 교수도 포함됐다.\n",
        " \n",
        "인공지능 컨소시엄은 지난 7월 8일에 창립 준비 위원 모임을 했고, 연세대 의대 영상의학과 최병욱 교수(사진)가 준비위원장으로 선출됐다.\n",
        "\n",
        "컨소시엄은 북미영상의학회에서 시작한 COVID-19 RICORD 컨소시엄, 유럽연합에서 시작한 COVID-19 이미징 AI 이니셔티브 등과 함께 국제 협력 활동을 펼칠 계획이며, 코로나19 대응을 위한 AI 핵심표준 개발도 목표로 하고 있다. 아울러 대한의료인공지능학회, 대한영상의학회 등 국내 관련 학회와도 적극 협력할 계획이다.\n",
        " \n",
        "한편 오는 7월 24일(금)에는 온라인 워크숍을 개최해 코로나 19 감염대응 의료 인공지능 관련 동향발표 및 연구개발 사례 소개가 있을 예정이다.'''"
      ],
      "execution_count": null,
      "outputs": []
    },
    {
      "cell_type": "code",
      "metadata": {
        "id": "eTuMsLAT0BeP",
        "colab_type": "code",
        "colab": {}
      },
      "source": [
        "ls_test = LuhnSummarize()"
      ],
      "execution_count": null,
      "outputs": []
    },
    {
      "cell_type": "code",
      "metadata": {
        "id": "uxfKImGe0IQI",
        "colab_type": "code",
        "colab": {}
      },
      "source": [
        "ls_test.keyword(0.005, 0.5)"
      ],
      "execution_count": null,
      "outputs": []
    },
    {
      "cell_type": "code",
      "metadata": {
        "id": "KHkKfs_n0Q5y",
        "colab_type": "code",
        "colab": {}
      },
      "source": [
        "ls_test.keysentence()"
      ],
      "execution_count": null,
      "outputs": []
    }
  ]
}