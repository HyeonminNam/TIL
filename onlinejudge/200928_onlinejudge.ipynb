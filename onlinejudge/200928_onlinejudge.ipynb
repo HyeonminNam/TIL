{
 "cells": [
  {
   "cell_type": "code",
   "execution_count": null,
   "metadata": {},
   "outputs": [],
   "source": []
  },
  {
   "cell_type": "code",
   "execution_count": 1,
   "metadata": {},
   "outputs": [
    {
     "name": "stdout",
     "output_type": "stream",
     "text": [
      "14\n",
      "push 1\n",
      "push 2\n",
      "top\n",
      "2\n",
      "size\n",
      "2\n",
      "empty\n",
      "0\n",
      "pop\n",
      "2\n",
      "pop\n",
      "1\n",
      "pop\n",
      "-1\n",
      "size\n",
      "0\n",
      "empty\n",
      "1\n",
      "pop\n",
      "-1\n",
      "push 3\n",
      "empty\n",
      "0\n",
      "top\n",
      "3\n"
     ]
    }
   ],
   "source": [
    "# 10828\n",
    "import sys\n",
    "input = sys.stdin.readline\n",
    "num = int(input())\n",
    "stack_lst = []\n",
    "for _ in range(num):\n",
    "    line = input()\n",
    "    if 'push' in line:\n",
    "        stack_lst.append(int(line.split()[1]))\n",
    "    elif 'pop' in line:\n",
    "        if stack_lst:\n",
    "            print(stack_lst.pop())\n",
    "        else:\n",
    "            print(-1)\n",
    "    elif 'top' in line:\n",
    "        if stack_lst:\n",
    "            print(int(stack_lst[-1]))\n",
    "        else:\n",
    "            print(-1)\n",
    "    elif 'size' in line:\n",
    "        print(len(stack_lst))\n",
    "    else:\n",
    "        if stack_lst:\n",
    "            print(0)\n",
    "        else:\n",
    "            print(1)"
   ]
  },
  {
   "cell_type": "code",
   "execution_count": null,
   "metadata": {},
   "outputs": [],
   "source": []
  }
 ],
 "metadata": {
  "kernelspec": {
   "display_name": "Python 3",
   "language": "python",
   "name": "python3"
  },
  "language_info": {
   "codemirror_mode": {
    "name": "ipython",
    "version": 3
   },
   "file_extension": ".py",
   "mimetype": "text/x-python",
   "name": "python",
   "nbconvert_exporter": "python",
   "pygments_lexer": "ipython3",
   "version": "3.7.3"
  }
 },
 "nbformat": 4,
 "nbformat_minor": 2
}
