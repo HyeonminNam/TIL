{
 "cells": [
  {
   "cell_type": "code",
   "execution_count": null,
   "metadata": {},
   "outputs": [],
   "source": [
    "# 1078\n",
    "num = int(input())\n",
    "result = 0\n",
    "for x in range(num+1):\n",
    "    if x%2==0:\n",
    "        result += x\n",
    "print(result)"
   ]
  },
  {
   "cell_type": "code",
   "execution_count": null,
   "metadata": {},
   "outputs": [],
   "source": [
    "# 1079\n",
    "lst = input().split()\n",
    "for x in lst:\n",
    "    if x == 'q':\n",
    "        print(x)\n",
    "        break\n",
    "    print(x)"
   ]
  },
  {
   "cell_type": "code",
   "execution_count": null,
   "metadata": {},
   "outputs": [],
   "source": [
    "# 1080\n",
    "num = int(input())\n",
    "result = 0\n",
    "a = 0\n",
    "while result < num:\n",
    "    a+=1\n",
    "    result += a\n",
    "print(a)\n"
   ]
  },
  {
   "cell_type": "code",
   "execution_count": null,
   "metadata": {},
   "outputs": [],
   "source": [
    "# 1081\n",
    "n, m = map(int, input().split())\n",
    "for x in range(1, n+1):\n",
    "    for y in range(1, m+1):\n",
    "        print(x, y) "
   ]
  },
  {
   "cell_type": "code",
   "execution_count": null,
   "metadata": {},
   "outputs": [],
   "source": [
    "# 1082\n",
    "n = int(input(), 16)\n",
    "for i in range(1, 16):\n",
    "    print('%X*%X=%X' % (n, i, n*i))\n"
   ]
  },
  {
   "cell_type": "code",
   "execution_count": null,
   "metadata": {},
   "outputs": [],
   "source": [
    "# 1083\n",
    "num = int(input())\n",
    "for x in range(1, num+1):\n",
    "    if x%3 == 0:\n",
    "        print('X', end=' ')\n",
    "    else:\n",
    "        print(x, end=' ')\n"
   ]
  },
  {
   "cell_type": "code",
   "execution_count": null,
   "metadata": {},
   "outputs": [],
   "source": [
    "# 1084\n",
    "r, g, b = map(int, input().split())\n",
    "count = 0\n",
    "for x in range(r):\n",
    "    for y in range(g):\n",
    "        for z in range(b):\n",
    "            print(x, y, z)\n",
    "            count += 1\n",
    "print(count)\n"
   ]
  },
  {
   "cell_type": "code",
   "execution_count": null,
   "metadata": {},
   "outputs": [],
   "source": [
    "# 1085\n",
    "h, b, c, s = map(int, input().split())\n",
    "bit = h*b*c*s\n",
    "mb = bit/(8*(1024**2))\n",
    "print('{} MB'.format(round(mb,1)))\n"
   ]
  },
  {
   "cell_type": "code",
   "execution_count": null,
   "metadata": {},
   "outputs": [],
   "source": [
    "# 1085\n",
    "w, h, b = map(int, input().split())\n",
    "bit = w*h*b\n",
    "mb = bit/(8*(1024**2))\n",
    "print('{:.2f} MB'.format(round(mb,2)))"
   ]
  },
  {
   "cell_type": "code",
   "execution_count": null,
   "metadata": {},
   "outputs": [],
   "source": [
    "# 1086\n",
    "num = int(input())\n",
    "result = 0\n",
    "a = 1\n",
    "while result < num:\n",
    "    result += a\n",
    "    a += 1\n",
    "print(result)\n"
   ]
  }
 ],
 "metadata": {
  "kernelspec": {
   "display_name": "Python 3",
   "language": "python",
   "name": "python3"
  },
  "language_info": {
   "codemirror_mode": {
    "name": "ipython",
    "version": 3
   },
   "file_extension": ".py",
   "mimetype": "text/x-python",
   "name": "python",
   "nbconvert_exporter": "python",
   "pygments_lexer": "ipython3",
   "version": "3.7.3"
  }
 },
 "nbformat": 4,
 "nbformat_minor": 2
}